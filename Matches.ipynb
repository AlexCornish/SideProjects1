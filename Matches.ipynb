{
 "cells": [
  {
   "cell_type": "code",
   "execution_count": null,
   "metadata": {},
   "outputs": [
    {
     "name": "stdout",
     "output_type": "stream",
     "text": [
      "BLSVector.parquet found...\n",
      "NAPCSVectors.parquet found...\n",
      "Is the code that you want to compare BLS or NAPCS? BLS\n",
      "Please enter the code here: WPU091301\n",
      "Please enter the number of nearest matches that you would like to see here: 20\n",
      "       Code                                   Class definition  similarity\n",
      "0   5511921  Wholesaling services for printing paper, inclu...    0.813480\n",
      "1   2512241  Tissue paper and other machine-creped paper fo...    0.800468\n",
      "2   7811314  Contract publishing of books, periodicals, jou...    0.788865\n",
      "3   6812221  Printing of magazines and other periodicals on...    0.786221\n",
      "4   7731146  Graphic design of books, magazines, and newspa...    0.784510\n",
      "5   7111221  Provision of advertising space in printed busi...    0.781003\n",
      "6   5614211              Retailing services for printed books.    0.780368\n",
      "7   5614231  Retailing services for other printed publicati...    0.775846\n",
      "8   7811313  Providing document finishing services, such as...    0.772835\n",
      "9   8515121  Providing photo finishing services. These cove...    0.770051\n",
      "10  7111211  Provision of advertising space in printed gene...    0.768969\n",
      "11  5614221  Retailing services for printed newspapers, mag...    0.766591\n",
      "12  7811312  Providing copies from a paper original or an e...    0.766071\n",
      "13  2512211                             Coated printing paper.    0.760480\n",
      "14  6812231  Book printing and binding on a fee or commissi...    0.757356\n",
      "15  7811315  Providing guidance and advice in relation to p...    0.757254\n",
      "16  7811311  Providing document editing (including technica...    0.756535\n",
      "17  2521223  Printed tablets, writing pads, and related pro...    0.754892\n",
      "18  5511461  Wholesaling services for books, magazines, new...    0.754080\n",
      "19  6814135  Manufacturing paper and paper products on a fe...    0.752527\n"
     ]
    }
   ],
   "source": [
    "import matches\n",
    "matches.main()"
   ]
  },
  {
   "cell_type": "code",
   "execution_count": null,
   "metadata": {},
   "outputs": [],
   "source": []
  },
  {
   "cell_type": "code",
   "execution_count": null,
   "metadata": {},
   "outputs": [],
   "source": []
  }
 ],
 "metadata": {
  "kernelspec": {
   "display_name": "Python 3",
   "language": "python",
   "name": "python3"
  },
  "language_info": {
   "codemirror_mode": {
    "name": "ipython",
    "version": 3
   },
   "file_extension": ".py",
   "mimetype": "text/x-python",
   "name": "python",
   "nbconvert_exporter": "python",
   "pygments_lexer": "ipython3",
   "version": "3.7.6"
  }
 },
 "nbformat": 4,
 "nbformat_minor": 4
}
